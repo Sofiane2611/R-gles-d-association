{
  "nbformat": 4,
  "nbformat_minor": 0,
  "metadata": {
    "colab": {
      "name": "Untitled11.ipynb",
      "provenance": []
    },
    "kernelspec": {
      "name": "python3",
      "display_name": "Python 3"
    }
  },
  "cells": [
    {
      "cell_type": "code",
      "metadata": {
        "id": "zgNAgF0Vesel"
      },
      "source": [
        "import mlxtend\r\n",
        "import pandas as pd\r\n",
        "import numpy as np\r\n",
        "import matplotlib.pyplot as plt\r\n",
        "from mlxtend.preprocessing import TransactionEncoder\r\n",
        "\r\n",
        "dataset = [['Skirt', 'Sneakers', 'Scarf', 'Pants', 'Hat'],\r\n",
        "\r\n",
        "        ['Sunglasses', 'Skirt', 'Sneakers', 'Pants', 'Hat'],\r\n",
        "\r\n",
        "        ['Dress', 'Sandals', 'Scarf', 'Pants', 'Heels'],\r\n",
        "\r\n",
        "        ['Dress', 'Necklace', 'Earrings', 'Scarf', 'Hat', 'Heels', 'Hat'],\r\n",
        "\r\n",
        "      ['Earrings', 'Skirt', 'Skirt', 'Scarf', 'Shirt', 'Pants']]"
      ],
      "execution_count": null,
      "outputs": []
    },
    {
      "cell_type": "code",
      "metadata": {
        "id": "qf4foLV9ezs1"
      },
      "source": [
        "import matplotlib.pyplot as plt\r\n",
        "import seaborn as sns\r\n",
        "\r\n",
        "from wordcloud import WordCloud\r\n",
        "\r\n",
        "plt.rcParams['figure.figsize'] = (18, 7)\r\n",
        "\r\n",
        "# 1st Item\r\n",
        "\r\n",
        "plt.subplot2grid ((2,3),(0,0))\r\n",
        "\r\n",
        "wordcloud = WordCloud(background_color = 'white', width = 1200,  height = 1200, max_words = 121).generate(str(data[0]))\r\n",
        "plt.imshow(wordcloud)\r\n",
        "plt.axis('off')\r\n",
        "plt.title('Most Popular_1st Items',fontsize = 20)\r\n",
        "\r\n",
        "# 2nd Item\r\n",
        "\r\n",
        "plt.subplot2grid ((2,3),(0,1))\r\n",
        "\r\n",
        "wordcloud = WordCloud(background_color = 'white', width = 1200,  height = 1200, max_words = 121).generate(str(data[1]))\r\n",
        "plt.imshow(wordcloud)\r\n",
        "plt.axis('off')\r\n",
        "plt.title('Most Popular_2nd Items',fontsize = 20)\r\n",
        "\r\n",
        "# 3rd Item\r\n",
        "\r\n",
        "plt.subplot2grid ((2,3),(0,2))\r\n",
        "\r\n",
        "wordcloud = WordCloud(background_color = 'white', width = 1200,  height = 1200, max_words = 121).generate(str(data[2]))\r\n",
        "plt.imshow(wordcloud)\r\n",
        "plt.axis('off')\r\n",
        "plt.title('Most Popular_3rd Items',fontsize = 20)\r\n",
        "\r\n",
        "# 4th Item\r\n",
        "\r\n",
        "plt.subplot2grid ((2,3),(1,0))\r\n",
        "\r\n",
        "wordcloud = WordCloud(background_color = 'white', width = 1200,  height = 1200, max_words = 121).generate(str(data[3]))\r\n",
        "plt.imshow(wordcloud)\r\n",
        "plt.axis('off')\r\n",
        "plt.title('Most Popular_4th Items',fontsize = 20)\r\n",
        "\r\n",
        "# 5th Item\r\n",
        "\r\n",
        "plt.subplot2grid ((2,3),(1,1))\r\n",
        "\r\n",
        "wordcloud = WordCloud(background_color = 'white', width = 1200,  height = 1200, max_words = 121).generate(str(data[4]))\r\n",
        "plt.imshow(wordcloud)\r\n",
        "plt.axis('off')\r\n",
        "plt.title('Most Popular_5th Items',fontsize = 20)\r\n",
        "\r\n",
        "plt.show()"
      ],
      "execution_count": null,
      "outputs": []
    },
    {
      "cell_type": "code",
      "metadata": {
        "id": "RKUqkBhke29M"
      },
      "source": [
        "plt.rcParams['figure.figsize'] = (18, 7)\r\n",
        "\r\n",
        "# 1st Item\r\n",
        "\r\n",
        "plt.subplot2grid ((2,3),(0,0))\r\n",
        "color = plt.cm.copper(np.linspace(0, 1, 20))\r\n",
        "data[0].value_counts().plot.bar(color = color)\r\n",
        "plt.title('frequency of most popular_1stitems', fontsize = 20)\r\n",
        "plt.xticks(rotation = 90 )\r\n",
        "plt.grid()\r\n",
        "\r\n",
        "# 2nd Item\r\n",
        "\r\n",
        "plt.subplot2grid ((2,3),(0,1))\r\n",
        "color = plt.cm.copper(np.linspace(0, 1, 20))\r\n",
        "data[1].value_counts().plot.bar(color = color)\r\n",
        "plt.title('frequency of most popular_ 2nd items', fontsize = 20)\r\n",
        "plt.xticks(rotation = 90 )\r\n",
        "plt.grid()\r\n",
        "\r\n",
        "# 3rd Item\r\n",
        "\r\n",
        "plt.subplot2grid ((2,3),(0,2))\r\n",
        "color = plt.cm.copper(np.linspace(0, 1, 20))\r\n",
        "data[2].value_counts().plot.bar(color = color)\r\n",
        "plt.title('frequency of most popular_3rd items', fontsize = 20)\r\n",
        "plt.xticks(rotation = 90 )\r\n",
        "plt.grid()\r\n",
        "\r\n",
        "# 4th Item\r\n",
        "\r\n",
        "plt.subplot2grid ((2,3),(1,1))\r\n",
        "color = plt.cm.copper(np.linspace(0, 1, 20))\r\n",
        "data[3].value_counts().plot.bar(color = color)\r\n",
        "plt.title('frequency of most popular_4th items', fontsize = 20)\r\n",
        "plt.xticks(rotation = 90 )\r\n",
        "plt.grid()\r\n",
        "\r\n",
        "plt.subplot2grid ((2,3),(1,2))\r\n",
        "color = plt.cm.copper(np.linspace(0, 1, 20))\r\n",
        "data[4].value_counts().plot.bar(color = color)\r\n",
        "plt.title('frequency of most popular_5th items', fontsize = 20)\r\n",
        "plt.xticks(rotation = 90 )\r\n",
        "plt.grid()\r\n",
        "\r\n",
        "\r\n",
        "plt.show()"
      ],
      "execution_count": null,
      "outputs": []
    },
    {
      "cell_type": "code",
      "metadata": {
        "id": "oCK82-uRfJO0"
      },
      "source": [
        "te=TransactionEncoder()\r\n",
        "te_ary=te.fit(dataset).transform(dataset)    \r\n",
        "df=pd.DataFrame(te_ary, columns=te.columns_)  \r\n",
        "df"
      ],
      "execution_count": null,
      "outputs": []
    },
    {
      "cell_type": "code",
      "metadata": {
        "id": "0nqVjxnVfK7J"
      },
      "source": [
        "from mlxtend.frequent_patterns import apriori\r\n",
        "\r\n",
        "frequent_itemsets=apriori(df, min_support=0.6, use_colnames=True) #Instead of column indices we can use column names.\r\n",
        "frequent_itemsets"
      ],
      "execution_count": null,
      "outputs": []
    },
    {
      "cell_type": "code",
      "metadata": {
        "id": "55lH1qRufMl0"
      },
      "source": [
        "from mlxtend.frequent_patterns import association_rules \r\n",
        "association_rules(frequent_itemsets,metric=\"confidence\",min_threshold=0.7)"
      ],
      "execution_count": null,
      "outputs": []
    },
    {
      "cell_type": "code",
      "metadata": {
        "id": "XkfA47wIfPCA"
      },
      "source": [
        "from mlxtend.frequent_patterns import association_rules \r\n",
        "rules = association_rules(frequent_itemsets,metric=\"lift\",min_threshold=1.25)\r\n",
        "rules"
      ],
      "execution_count": null,
      "outputs": []
    },
    {
      "cell_type": "code",
      "metadata": {
        "id": "p8u9f9xZfRCd"
      },
      "source": [
        "plt.scatter(rules['support'], rules['confidence'], alpha=0.5)\r\n",
        "plt.xlabel('support')\r\n",
        "plt.ylabel('confidence')\r\n",
        "plt.title('Support vs Confidence')\r\n",
        "plt.show()"
      ],
      "execution_count": null,
      "outputs": []
    },
    {
      "cell_type": "code",
      "metadata": {
        "id": "2jWfs3pqfSzN"
      },
      "source": [
        "plt.scatter(rules['support'], rules['lift'], alpha=0.5)\r\n",
        "plt.xlabel('support')\r\n",
        "plt.ylabel('lift')\r\n",
        "plt.title('Support vs Lift')\r\n",
        "plt.show()"
      ],
      "execution_count": null,
      "outputs": []
    },
    {
      "cell_type": "code",
      "metadata": {
        "id": "PoNy6imTfUzb"
      },
      "source": [
        "fit = np.polyfit(rules['lift'], rules['confidence'], 1)\r\n",
        "fit_fn = np.poly1d(fit)\r\n",
        "plt.plot(rules['lift'], rules['confidence'], 'yo', rules['lift'], \r\n",
        " fit_fn(rules['lift']))"
      ],
      "execution_count": null,
      "outputs": []
    },
    {
      "cell_type": "code",
      "metadata": {
        "id": "ONboDVIzfWsr"
      },
      "source": [
        "import numpy as np\r\n",
        "import pandas as pd\r\n",
        "\r\n",
        "import matplotlib.pyplot as plt\r\n",
        "import squarify\r\n",
        "import seaborn as sns\r\n",
        "plt.style.use('fivethirtyeight')\r\n",
        "\r\n",
        "#import os\r\n",
        "#print(os.listdir('../input/'))\r\n",
        "\r\n",
        "from mlxtend.frequent_patterns import apriori\r\n",
        "from mlxtend.frequent_patterns import association_rules"
      ],
      "execution_count": null,
      "outputs": []
    },
    {
      "cell_type": "code",
      "metadata": {
        "id": "nC4NHsUZfb8k"
      },
      "source": [
        "data=pd.read_csv('Market_Basket_Optimisation.csv',header = None)\r\n",
        "data.head()"
      ],
      "execution_count": null,
      "outputs": []
    },
    {
      "cell_type": "code",
      "metadata": {
        "id": "m3yMfnPlfePD"
      },
      "source": [
        "data.shape"
      ],
      "execution_count": null,
      "outputs": []
    },
    {
      "cell_type": "code",
      "metadata": {
        "id": "5fCJglUifenz"
      },
      "source": [
        "data.info()\r\n",
        "data.isnull().sum()"
      ],
      "execution_count": null,
      "outputs": []
    },
    {
      "cell_type": "code",
      "metadata": {
        "id": "oKSbz9h-fgSQ"
      },
      "source": [
        "data.sample(10)"
      ],
      "execution_count": null,
      "outputs": []
    },
    {
      "cell_type": "code",
      "metadata": {
        "id": "V46r23t9fh5F"
      },
      "source": [
        "\r\n",
        "import matplotlib.pyplot as plt\r\n",
        "import seaborn as sns\r\n",
        "\r\n",
        "from wordcloud import WordCloud\r\n",
        "\r\n",
        "plt.rcParams['figure.figsize'] = (15, 15)\r\n",
        "wordcloud = WordCloud(background_color = 'white', width = 1200,  height = 1200, max_words = 121).generate(str(data[0]))\r\n",
        "plt.imshow(wordcloud)\r\n",
        "plt.axis('off')\r\n",
        "plt.title('Most Popular Items',fontsize = 20)\r\n",
        "plt.show()"
      ],
      "execution_count": null,
      "outputs": []
    },
    {
      "cell_type": "code",
      "metadata": {
        "id": "_3oDHXSDfjwb"
      },
      "source": [
        "# looking at the frequency of most popular items\r\n",
        "\r\n",
        "plt.rcParams['figure.figsize'] = (18, 7)\r\n",
        "color = plt.cm.copper(np.linspace(0, 1, 40))\r\n",
        "data[0].value_counts().head(40).plot.bar(color = color)\r\n",
        "plt.title('frequency of most popular items', fontsize = 20)\r\n",
        "plt.xticks(rotation = 90 )\r\n",
        "plt.grid()\r\n",
        "plt.show()"
      ],
      "execution_count": null,
      "outputs": []
    },
    {
      "cell_type": "code",
      "metadata": {
        "id": "Fv2fTJHOfmUj"
      },
      "source": [
        "\r\n",
        "y = data[0].value_counts().head(50).to_frame()\r\n",
        "y.index"
      ],
      "execution_count": null,
      "outputs": []
    },
    {
      "cell_type": "code",
      "metadata": {
        "id": "cJ51RZ_0fpEH"
      },
      "source": [
        "# plotting a tree map\r\n",
        "\r\n",
        "plt.rcParams['figure.figsize'] = (20, 20)\r\n",
        "color = plt.cm.cool(np.linspace(0, 1, 50))\r\n",
        "squarify.plot(sizes = y.values, label = y.index, alpha=.8, color = color)\r\n",
        "plt.title('Tree Map for Popular Items')\r\n",
        "plt.axis('off')\r\n",
        "plt.show()"
      ],
      "execution_count": null,
      "outputs": []
    },
    {
      "cell_type": "code",
      "metadata": {
        "id": "jb5hlzptfrfd"
      },
      "source": [
        "data['food'] = 'Food'\r\n",
        "food = data.truncate(before = -1, after = 15)\r\n",
        "\r\n",
        "\r\n",
        "import networkx as nx\r\n",
        "\r\n",
        "food = nx.from_pandas_edgelist(food, source = 'food', target = 0, edge_attr = True)"
      ],
      "execution_count": null,
      "outputs": []
    },
    {
      "cell_type": "code",
      "metadata": {
        "id": "mJesWmrmgDGk"
      },
      "source": [
        "import warnings\r\n",
        "warnings.filterwarnings('ignore')\r\n",
        "\r\n",
        "plt.rcParams['figure.figsize'] = (20, 20)\r\n",
        "pos = nx.spring_layout(food)\r\n",
        "color = plt.cm.Wistia(np.linspace(0, 15, 1))\r\n",
        "nx.draw_networkx_nodes(food, pos, node_size = 15000, node_color = color)\r\n",
        "nx.draw_networkx_edges(food, pos, width = 3, alpha = 0.6, edge_color = 'black')\r\n",
        "nx.draw_networkx_labels(food, pos, font_size = 20, font_family = 'sans-serif')\r\n",
        "plt.axis('off')\r\n",
        "plt.grid()\r\n",
        "plt.title('Top 15 First Choices', fontsize = 40)\r\n",
        "plt.show()"
      ],
      "execution_count": null,
      "outputs": []
    },
    {
      "cell_type": "code",
      "metadata": {
        "id": "rVq8QT9QgFhk"
      },
      "source": [
        "data['secondchoice'] = 'Second Choice'\r\n",
        "secondchoice = data.truncate(before = -1, after = 15)\r\n",
        "secondchoice = nx.from_pandas_edgelist(secondchoice, source = 'food', target = 1, edge_attr = True)"
      ],
      "execution_count": null,
      "outputs": []
    },
    {
      "cell_type": "code",
      "metadata": {
        "id": "oHqUo7kUgIPe"
      },
      "source": [
        "import warnings\r\n",
        "warnings.filterwarnings('ignore')\r\n",
        "\r\n",
        "plt.rcParams['figure.figsize'] = (20, 20)\r\n",
        "pos = nx.spring_layout(secondchoice)\r\n",
        "color = plt.cm.Blues(np.linspace(0, 15, 1))\r\n",
        "nx.draw_networkx_nodes(secondchoice, pos, node_size = 15000, node_color = color)\r\n",
        "nx.draw_networkx_edges(secondchoice, pos, width = 3, alpha = 0.6, edge_color = 'brown')\r\n",
        "nx.draw_networkx_labels(secondchoice, pos, font_size = 20, font_family = 'sans-serif')\r\n",
        "plt.axis('off')\r\n",
        "plt.grid()\r\n",
        "plt.title('Top 15 Second Choices', fontsize = 40)\r\n",
        "plt.show()"
      ],
      "execution_count": null,
      "outputs": []
    },
    {
      "cell_type": "code",
      "metadata": {
        "id": "XWHnI-izgMbI"
      },
      "source": [
        "\r\n",
        "# making each customers shopping items an identical list\r\n",
        "trans = []\r\n",
        "for i in range(0, 7501):\r\n",
        "    trans.append([str(data.values[i,j]) for j in range(0, 20)])\r\n",
        "\r\n",
        "# conveting it into an numpy array\r\n",
        "trans = np.array(trans)\r\n",
        "\r\n",
        "# checking the shape of the array\r\n",
        "print(trans.shape)"
      ],
      "execution_count": null,
      "outputs": []
    },
    {
      "cell_type": "code",
      "metadata": {
        "id": "SUEpY9wbgOm7"
      },
      "source": [
        "from mlxtend.preprocessing import TransactionEncoder\r\n",
        "\r\n",
        "te = TransactionEncoder()\r\n",
        "data = te.fit_transform(trans)\r\n",
        "data = pd.DataFrame(data, columns = te.columns_)\r\n",
        "\r\n",
        "data.shape"
      ],
      "execution_count": null,
      "outputs": []
    }
  ]
}